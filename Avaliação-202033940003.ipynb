{
 "cells": [
  {
   "attachments": {},
   "cell_type": "markdown",
   "metadata": {},
   "source": [
    "# Trabalho avaliativo - Sistemas de controle II - 2023.2\n",
    "\n",
    "**Leia com atenção as instruções abaixo**"
   ]
  },
  {
   "attachments": {},
   "cell_type": "markdown",
   "metadata": {},
   "source": [
    "*Informe na célula de código abaixo o seu número de matrícula:* \n",
    "\n",
    "***Não remova as aspas***"
   ]
  },
  {
   "cell_type": "code",
   "execution_count": 1,
   "metadata": {},
   "outputs": [],
   "source": [
    "# Informe aqui sua matrícula\n",
    "mat = '202033940003'"
   ]
  },
  {
   "attachments": {},
   "cell_type": "markdown",
   "metadata": {},
   "source": [
    "*Depois de informar os dados, execute o arquivo inteiro. Caso ocorra algum erro, peça ajuda ao professor*\n",
    "\n",
    "*Resolva as questões abaixo, **justificando** todas as respostas. Utilize markdown para escrever texto e Python para fazer as contas. O trabalho é individual*"
   ]
  },
  {
   "cell_type": "code",
   "execution_count": 2,
   "metadata": {},
   "outputs": [],
   "source": [
    "# \n",
    "# Não modifique esta célula! Você pode comprometer a sua avaliação.\n",
    "from numpy.random import RandomState\n",
    "from IPython.display import display, Math\n",
    "from sympy import symbols, sin, cos, latex\n",
    "from sympy import ImmutableMatrix as matriz\n",
    "from numpy import arange\n",
    "\n",
    "_nn = int(mat[0:4]+mat[-2:])\n",
    "_rng = RandomState(_nn)\n",
    "#_dig = arange(-9,10)\n",
    "#_dig = _dig[_dig!=0]\n",
    "#_n = _rng.randint(0,_dig.size,20)\n",
    "_n = _rng.random(size=(4,)).round(3)\n",
    "def G(): \n",
    "    s = symbols('s')\n",
    "    c = .5+0.10*_n[0]\n",
    "    d = .5+0.25*_n[1]\n",
    "    a = .2+0.15*_n[2]\n",
    "    b = 9+_n[3]\n",
    "    b0 = (b*c**2*d).round(3)\n",
    "    b1 = (a*b*c**2*d).round(3)\n",
    "    G = (b1*s+b0)/((s+c)**2*(s+d))\n",
    "    display(Math('G(s) = ' + latex(G)))"
   ]
  },
  {
   "cell_type": "code",
   "execution_count": 3,
   "metadata": {},
   "outputs": [],
   "source": [
    "import math as mt\n",
    "import numpy as np\n",
    "import matplotlib.pyplot as plt\n",
    "import sympy as sp\n",
    "import control as ct\n",
    "import scipy.signal as sig\n",
    "from escrever import *\n",
    "esc = escrever()"
   ]
  },
  {
   "attachments": {},
   "cell_type": "markdown",
   "metadata": {},
   "source": [
    "## 1."
   ]
  },
  {
   "attachments": {},
   "cell_type": "markdown",
   "metadata": {},
   "source": [
    "*Considere o sistema:*"
   ]
  },
  {
   "cell_type": "code",
   "execution_count": 4,
   "metadata": {},
   "outputs": [
    {
     "data": {
      "text/latex": [
       "$\\displaystyle G(s) = \\frac{0.449 s + 1.97}{\\left(s + 0.5395\\right)^{2} \\left(s + 0.7\\right)}$"
      ],
      "text/plain": [
       "<IPython.core.display.Math object>"
      ]
     },
     "metadata": {},
     "output_type": "display_data"
    }
   ],
   "source": [
    "G()"
   ]
  },
  {
   "attachments": {},
   "cell_type": "markdown",
   "metadata": {},
   "source": [
    "1. *Faça uma análise de malha aberta: verifique estabilidade e características de resposta ao degrau unitário (25%). Opcional: analise o que aconteceria caso fosse utilizada realimentação proporcional (+10% extra)*"
   ]
  },
  {
   "attachments": {},
   "cell_type": "markdown",
   "metadata": {},
   "source": [
    "Primeiramente vamos calcular os polos para assim motarmos a função de espaço estados, como eu observei que o sistema tinha polos iguais, resolvi usar a forma de Jordan com polos reais e repetidos."
   ]
  },
  {
   "cell_type": "code",
   "execution_count": 5,
   "metadata": {},
   "outputs": [
    {
     "name": "stdout",
     "output_type": "stream",
     "text": [
      "Resíduos:  [-64.27344455  10.76488785  64.27344455]\n",
      "Pólos:  [-0.5395 -0.5395 -0.7   ]\n"
     ]
    }
   ],
   "source": [
    "# Calcula resíduos e pólos\n",
    "import numpy as np\n",
    "\n",
    "num = np.array([0.449,1.97])\n",
    "\n",
    "# As duas próximas calculam o denominador\n",
    "den = np.convolve([1,0.5395],[1,0.5395])\n",
    "den = np.convolve(den,[1,0.7])\n",
    "\n",
    "# Acha os resíduos. \n",
    "r,p,k = sig.residue(num,den)\n",
    "print('Resíduos: ', r)\n",
    "print('Pólos: ',p)"
   ]
  },
  {
   "attachments": {},
   "cell_type": "markdown",
   "metadata": {},
   "source": [
    "$$\n",
    "\\begin{align*}\n",
    "    \\dot{x}_1  &= u -0.5395x_1\\\\\n",
    "    \\dot{x}_2 &= x_1 -0.5395x_2\\\\\n",
    "    \\dot{x}_3 &= u -0.7x_3\\\\\n",
    "    \\mathbf{y} &= -64.27344455x_1 + 10.76488785x_2 + 64.27344455x_3\\\\\n",
    "\\end{align*}\n",
    "$$"
   ]
  },
  {
   "attachments": {},
   "cell_type": "markdown",
   "metadata": {},
   "source": [
    "Aqui encontraremos as matrizes de F, G, H, e I"
   ]
  },
  {
   "cell_type": "code",
   "execution_count": 6,
   "metadata": {},
   "outputs": [
    {
     "data": {
      "text/latex": [
       "$\\displaystyle \\dot{\\mathbf{x}} = \\left[\\begin{array}{rrr}-0.5395&0.0&0.0\\\\1.0&-0.5395&0.0\\\\0.0&0.0&-0.7\\\\\\end{array}\\right]\\mathbf{x}+\\left[\\begin{array}{r}1\\\\0\\\\1\\\\\\end{array}\\right]\\mathbf{u}$"
      ],
      "text/plain": [
       "<IPython.core.display.Math object>"
      ]
     },
     "metadata": {},
     "output_type": "display_data"
    },
    {
     "data": {
      "text/latex": [
       "$\\displaystyle \\mathbf{y} = \\left[\\begin{array}{rrr}-64.27344455&10.76488785&64.27344455\\\\\\end{array}\\right]\\mathbf{x} + \\left[\\begin{array}{r}0\\\\\\end{array}\\right]\\mathbf{u}$"
      ],
      "text/plain": [
       "<IPython.core.display.Math object>"
      ]
     },
     "metadata": {},
     "output_type": "display_data"
    }
   ],
   "source": [
    "F = np.matrix([[-0.5395,0,0],[1,-0.5395,0],[0,0,-0.7]])\n",
    "G = np.matrix([1,0,1]).T\n",
    "H = np.matrix([-64.27344455,10.76488785,64.27344455])\n",
    "D = np.matrix([0])\n",
    "\n",
    "sys = ct.ss(F,G,H,0)\n",
    "esc.sist(F,G,H,D)\n"
   ]
  },
  {
   "cell_type": "code",
   "execution_count": 7,
   "metadata": {},
   "outputs": [
    {
     "name": "stdout",
     "output_type": "stream",
     "text": [
      "_____Eigenvalue______ Damping___ Frequency_\n",
      "   -0.5395                     1     0.5395\n",
      "   -0.5395                     1     0.5395\n",
      "      -0.7                     1        0.7\n"
     ]
    }
   ],
   "source": [
    "damp_info = ct.damp(sys)"
   ]
  },
  {
   "attachments": {},
   "cell_type": "markdown",
   "metadata": {},
   "source": [
    "encontrando os autovalores, saberemos se o sistema é estável ou não, mas também dá de saber olhando os polos, caso os polos sejam positivos ou seja esteja no semi-plano direito, então ele será instável"
   ]
  },
  {
   "cell_type": "code",
   "execution_count": 8,
   "metadata": {},
   "outputs": [
    {
     "name": "stdout",
     "output_type": "stream",
     "text": [
      "Autovalores: \n",
      "[-0.5395 -0.5395 -0.7   ]\n"
     ]
    }
   ],
   "source": [
    "A = np.array([[-0.5395,0,0],[1,-0.5395,0],[0,0,-0.7]])\n",
    "s,v = np.linalg.eig(A)\n",
    "print(\"Autovalores: \")\n",
    "print(s.round(decimals=4))"
   ]
  },
  {
   "attachments": {},
   "cell_type": "markdown",
   "metadata": {},
   "source": [
    "Como podemos ver os autovalores são reais negativos e isso significa que eles são estáveis"
   ]
  },
  {
   "cell_type": "code",
   "execution_count": 40,
   "metadata": {},
   "outputs": [
    {
     "data": {
      "text/plain": [
       "array([-4.38752784+0.j])"
      ]
     },
     "execution_count": 40,
     "metadata": {},
     "output_type": "execute_result"
    }
   ],
   "source": [
    "#zero do sistema\n",
    "ct.zeros(sys)"
   ]
  },
  {
   "attachments": {},
   "cell_type": "markdown",
   "metadata": {},
   "source": [
    "Aqui mostramos o sistema respondendo a um degral unitário, e pelo gráfico dá de ver que ele demora a subir e se acomodar, da de perceber também que não tem overshoot."
   ]
  },
  {
   "cell_type": "code",
   "execution_count": 41,
   "metadata": {},
   "outputs": [
    {
     "data": {
      "image/png": "[encoded data removed]",
      "text/plain": [
       "<Figure size 640x480 with 1 Axes>"
      ]
     },
     "metadata": {},
     "output_type": "display_data"
    }
   ],
   "source": [
    "t,y = ct.step_response(sys,24)\n",
    "plt.plot(t,y)\n",
    "plt.grid()\n",
    "plt.show()"
   ]
  },
  {
   "attachments": {},
   "cell_type": "markdown",
   "metadata": {},
   "source": [
    "2. *Proponha especificações de desempenho em malha fechada com base na análise de malha aberta do item 1 (20%).*"
   ]
  },
  {
   "cell_type": "code",
   "execution_count": 11,
   "metadata": {},
   "outputs": [
    {
     "data": {
      "text/plain": [
       "{'RiseTime': 7.242663813725759,\n",
       " 'SettlingTime': 12.803994956408038,\n",
       " 'SettlingMin': 8.713270240227672,\n",
       " 'SettlingMax': 9.669082995588099,\n",
       " 'Overshoot': 0,\n",
       " 'Undershoot': 0,\n",
       " 'Peak': 9.483988310476207,\n",
       " 'PeakTime': 12.803994956408038,\n",
       " 'SteadyStateValue': 9.669082995588099}"
      ]
     },
     "execution_count": 11,
     "metadata": {},
     "output_type": "execute_result"
    }
   ],
   "source": [
    "ct.step_info(sys)"
   ]
  },
  {
   "attachments": {},
   "cell_type": "markdown",
   "metadata": {},
   "source": [
    "observando os dados que nos foram mostrados pela função ct.step_info, podemos perceber que seu tempo de subida não está muito desejável, por isso queremos diminuir, quanto menor o seu valor, mais rápido será a resposta do sistema, temos também o tempo de acomodamento, o overshoot e entre outros, mas devemos estar ciente que quando mudamos um desses valores, os outros também mudam, temos que tentar equilibrar na hora de escolher os valores dos parâmetros."
   ]
  },
  {
   "attachments": {},
   "cell_type": "markdown",
   "metadata": {},
   "source": [
    "Escolhi um valor de tempo de acomodamento como 3.65s, e uma frequência natural de 1.2, a partir desses dois valores, vamos encontrar o valor de overshoot, instante de pico, amortecimento e tempo de subida."
   ]
  },
  {
   "cell_type": "code",
   "execution_count": 33,
   "metadata": {},
   "outputs": [
    {
     "name": "stdout",
     "output_type": "stream",
     "text": [
      "Amortecimento: 0.9132420091324202\n",
      "Instante de pico: 6.425825527690618\n",
      "Tempo de subida: 3.681726826240975\n",
      "Overshoot: 0.08743755545755282\n"
     ]
    }
   ],
   "source": [
    "Ts = 3.65\n",
    "wn = 1.2\n",
    "xi = (4)/(wn*Ts)\n",
    "Tp = (np.pi)/(wn*(np.sqrt(1-(xi)**2)))\n",
    "Tr = (1.8)/(wn*(np.sqrt(1-(xi)**2)))\n",
    "c10 = (-xi*np.pi)\n",
    "c11 = np.sqrt(1-((xi)**2))\n",
    "Up = 100* (np.exp(c10/c11))\n",
    "print(\"Amortecimento:\", xi)\n",
    "print(\"Instante de pico:\", Tp)\n",
    "print(\"Tempo de subida:\", Tr)\n",
    "print(\"Overshoot:\", Up)"
   ]
  },
  {
   "attachments": {},
   "cell_type": "markdown",
   "metadata": {},
   "source": [
    "analisando os resultados, o overshoot está muito bom ele está bem próximo de zero ele quase não ultrapassa o valor desejado, o tempo de subida também está bom contando com apenas 3,68 segundos, antes era 12,80 quase 4 vezes maior que o valor atual, já o seu amortecimento é quase criticamente amortecido, pois o seu amortecimento é quase 1, então não haverá tanta oscilação.\n",
    "\n",
    "\n",
    "\n"
   ]
  },
  {
   "attachments": {},
   "cell_type": "markdown",
   "metadata": {},
   "source": [
    "3. *Projete um compensador de estados de ordem completa, de acordo com as especificações estabelecidas no item 2 e também forneça rejeição à distúrbios do tipo degrau. Justifique as escolhas de todos os pólos e apresente as funções de transferência do compensador ao final (35%).*"
   ]
  },
  {
   "attachments": {},
   "cell_type": "markdown",
   "metadata": {},
   "source": [
    "Inicialmente para projetar um compensador de ordem completa, é necessário primeiro estabelecer os requisistos de desempenho, como tempo de subida, amortecimento, frequência natural, overshoot e outros, e tudo isso foi estabelecido na questão 2, depois projetar os polos desejados, afinal são eles que determinam a estabilidade e resposta transitória."
   ]
  },
  {
   "cell_type": "code",
   "execution_count": 13,
   "metadata": {},
   "outputs": [
    {
     "data": {
      "text/latex": [
       "$\\displaystyle \\xi = 0.9132$"
      ],
      "text/plain": [
       "<IPython.core.display.Math object>"
      ]
     },
     "metadata": {},
     "output_type": "display_data"
    },
    {
     "data": {
      "text/latex": [
       "$\\displaystyle \\omega_n = 1.2$"
      ],
      "text/plain": [
       "<IPython.core.display.Math object>"
      ]
     },
     "metadata": {},
     "output_type": "display_data"
    },
    {
     "data": {
      "text/latex": [
       "$\\displaystyle s = (-1.0958+0.4075j)$"
      ],
      "text/plain": [
       "<IPython.core.display.Math object>"
      ]
     },
     "metadata": {},
     "output_type": "display_data"
    }
   ],
   "source": [
    "p = -xi*wn+1j*wn*np.sqrt(1-xi**2)\n",
    "esc.polos(xi,wn)"
   ]
  },
  {
   "attachments": {},
   "cell_type": "markdown",
   "metadata": {},
   "source": [
    "Encontrar os polos reguladores, que são compostos por polos dominantes e polos extras, dependendo de onde a gente colocar esses polos podemos deixar o sistema mais rápido, estável e menos oscilante."
   ]
  },
  {
   "cell_type": "code",
   "execution_count": 14,
   "metadata": {},
   "outputs": [
    {
     "data": {
      "text/latex": [
       "$\\displaystyle \\left[\\begin{array}{r}(-1.0959+0.4889j)\\\\(-1.0959-0.4889j)\\\\(-4.3836+0j)\\\\(-4.3836+0j)\\\\\\end{array}\\right]$"
      ],
      "text/plain": [
       "<IPython.core.display.Math object>"
      ]
     },
     "metadata": {},
     "output_type": "display_data"
    }
   ],
   "source": [
    "polos_dom = np.array([[p, np.conjugate(p)]])\n",
    "polos_extras = np.array([[np.real(p)*4]*2])\n",
    "polos_re = np.block([polos_dom,polos_extras])\n",
    "display(Math(esc.mat(polos_re.T.round(decimals=4))))\n",
    "\n"
   ]
  },
  {
   "attachments": {},
   "cell_type": "markdown",
   "metadata": {},
   "source": [
    "Como o número de polos aumentou, então precisamos ir para o próximo passo que seria a construção de uma matriz aumentada, antes era uma matriz 3x3, mas como o número de polos aumentou para 4, então a matriz aumentada serar de 4x4, para realizar a contrução da matriz aumentada, pegaremos a matriz F e colocamos uma coluna a mais, na coluna 4 colocamos um vetor composto de zeros, e pomos uma linha a mais na linha 4 colocamos o vetor H.\n",
    "\n",
    "\n",
    "$$\n",
    "\\begin{align*}\n",
    "    \\begin{bmatrix}\n",
    "    F_{11} & F_{12} & F_{13} & 0\\\\\n",
    "     F_{21} & F_{22} & F_{23} & 0\\\\\n",
    "     F_{31} & F_{32} & F_{33} & 0\\\\\n",
    "     H_{41} & H_{42} & H_{43} & 0\\\\\n",
    "    \\end{bmatrix}\n",
    "\\end{align*}\n",
    "$$\n"
   ]
  },
  {
   "cell_type": "code",
   "execution_count": 42,
   "metadata": {},
   "outputs": [
    {
     "data": {
      "text/plain": [
       "matrix([[ -0.5395    ,   0.        ,   0.        ,   0.        ],\n",
       "        [  1.        ,  -0.5395    ,   0.        ,   0.        ],\n",
       "        [  0.        ,   0.        ,  -0.7       ,   0.        ],\n",
       "        [ 64.27344455, -10.76488785, -64.27344455,   0.        ]])"
      ]
     },
     "execution_count": 42,
     "metadata": {},
     "output_type": "execute_result"
    }
   ],
   "source": [
    "#matriz aumentada\n",
    "Fa = np.block([[F,np.zeros((3,1))],[-H, 0]])\n",
    "Ga = np.block([[G],[0]])\n",
    "Fa"
   ]
  },
  {
   "attachments": {},
   "cell_type": "markdown",
   "metadata": {},
   "source": [
    "Agora vamos encontrar o ganho do controlador ou ganho do regulador, que é responsável pela velocidade da resposta do sistema, porém um ganho muito alto pode causar instailidade e oscilações no sitema."
   ]
  },
  {
   "cell_type": "code",
   "execution_count": 16,
   "metadata": {},
   "outputs": [
    {
     "data": {
      "text/latex": [
       "$\\displaystyle \\mathbf{K}_a = \\left[\\begin{array}{rrrr}-982.7146&186.6454&991.8945&-14.0459\\\\\\end{array}\\right]$"
      ],
      "text/plain": [
       "<IPython.core.display.Math object>"
      ]
     },
     "metadata": {},
     "output_type": "display_data"
    }
   ],
   "source": [
    "Ka = ct.acker(Fa,Ga,polos_re[0,:])\n",
    "display(Math(r'\\mathbf{K}_a = ' + esc.mat(Ka.round(4))))"
   ]
  },
  {
   "attachments": {},
   "cell_type": "markdown",
   "metadata": {},
   "source": [
    "Agora vamos encontrar o estimador, esse estimador ele é tipo um sistema que tenta copiar o original, corrigindo as estimativas quando o sinal de saída mostra que tem alguma diferença.\n"
   ]
  },
  {
   "cell_type": "code",
   "execution_count": 17,
   "metadata": {},
   "outputs": [
    {
     "data": {
      "text/latex": [
       "$\\displaystyle \\left[\\begin{array}{r}(-7.6712+3.4223j)\\\\(-7.6712-3.4223j)\\\\(-30.6849+0j)\\\\\\end{array}\\right]$"
      ],
      "text/plain": [
       "<IPython.core.display.Math object>"
      ]
     },
     "metadata": {},
     "output_type": "display_data"
    }
   ],
   "source": [
    "i = 7\n",
    "polo_est1 = np.array([[p*i, np.conjugate(p)*i]])\n",
    "polo_est2 = np.array([[np.real(p)*i*4]])\n",
    "polos_estimador = np.block([polo_est1,polo_est2])\n",
    "display(Math(esc.mat(polos_estimador.T.round(decimals=4))))"
   ]
  },
  {
   "attachments": {},
   "cell_type": "markdown",
   "metadata": {},
   "source": [
    "Vamos determinar o valor do ganho do estimador, ele significa um ajuste que controla o quanto as medições são importantess, se for muito alta então tem muita importância, caso contrário, então seria de menor importância, essas medições são as informações sobre o comportamento real do sistema."
   ]
  },
  {
   "cell_type": "code",
   "execution_count": 18,
   "metadata": {},
   "outputs": [
    {
     "data": {
      "text/latex": [
       "$\\displaystyle \\mathbf{L} = \\left[\\begin{array}{r}1091.7658\\\\1.3597\\\\1092.2265\\\\\\end{array}\\right]$"
      ],
      "text/plain": [
       "<IPython.core.display.Math object>"
      ]
     },
     "metadata": {},
     "output_type": "display_data"
    }
   ],
   "source": [
    "L = ct.acker(F.T,H.T,polos_estimador[0,:]).T\n",
    "display(Math(r'\\mathbf{L} = ' + esc.mat(L.round(4))))"
   ]
  },
  {
   "cell_type": "code",
   "execution_count": 19,
   "metadata": {},
   "outputs": [
    {
     "data": {
      "text/latex": [
       "$\\displaystyle \\dot{\\mathbf{x}} = \\left[\\begin{array}{rrrr}71153.7241&-11939.3819&-71163.4435&14.0459\\\\88.3942&-15.1768&-87.3942&0.0\\\\71183.8747&-11944.3413&-71193.7546&14.0459\\\\0.0&0.0&0.0&0.0\\\\\\end{array}\\right]\\mathbf{x}+\\left[\\begin{array}{rr}1091.7658&0.0\\\\1.3597&0.0\\\\1092.2265&0.0\\\\-1.0&1.0\\\\\\end{array}\\right]\\mathbf{u}$"
      ],
      "text/plain": [
       "<IPython.core.display.Math object>"
      ]
     },
     "metadata": {},
     "output_type": "display_data"
    },
    {
     "data": {
      "text/latex": [
       "$\\displaystyle \\mathbf{y} = \\left[\\begin{array}{rrrr}982.7146&-186.6454&-991.8945&14.0459\\\\\\end{array}\\right]\\mathbf{x} + \\left[\\begin{array}{rr}0.0&0.0\\\\\\end{array}\\right]\\mathbf{u}$"
      ],
      "text/plain": [
       "<IPython.core.display.Math object>"
      ]
     },
     "metadata": {},
     "output_type": "display_data"
    }
   ],
   "source": [
    "# Montagem do controlador e função de transferência\n",
    "Fl = np.block([[F,np.zeros((3,1))],[np.zeros((1,4))]])\n",
    "Gl = Ga\n",
    "Hl = np.block([H,0])\n",
    "L0 = np.block([[L],[0]])\n",
    "L1 = np.block([[L],[-1]])\n",
    "M = np.block([[np.zeros((3,1))],[1]])\n",
    "Fc = Fl-Gl@Ka-L0@Hl\n",
    "Gc = np.block([L1,M])\n",
    "Hc = -Ka\n",
    "Ic = np.zeros((1,2))\n",
    "esc.sist(Fc.round(4),Gc.round(4),Hc.round(4),Ic)"
   ]
  },
  {
   "attachments": {},
   "cell_type": "markdown",
   "metadata": {},
   "source": [
    "E para finalizar temos aqui a função de transferência."
   ]
  },
  {
   "cell_type": "code",
   "execution_count": 20,
   "metadata": {},
   "outputs": [
    {
     "data": {
      "text/latex": [
       "$$\\frac{-1.075 \\times 10^{4} s^3 - 4.384 \\times 10^{4} s^2 - 6.049 \\times 10^{4} s - 3.041 \\times 10^{4}}{s^4 + 55.21 s^3 + 986.4 s^2 + 3349 s}$$"
      ],
      "text/plain": [
       "TransferFunction(array([-10747.10878256, -43841.7983605 , -60489.14345587, -30411.24896036]), array([1.00000000e+00, 5.52073014e+01, 9.86363419e+02, 3.34939641e+03,\n",
       "       0.00000000e+00]))"
      ]
     },
     "metadata": {},
     "output_type": "display_data"
    },
    {
     "data": {
      "text/latex": [
       "$$\\frac{14.05 s^3 + 646.5 s^2 + 7604 s + 3.041 \\times 10^{4}}{s^4 + 55.21 s^3 + 986.4 s^2 + 3349 s}$$"
      ],
      "text/plain": [
       "TransferFunction(array([1.40459301e+01, 6.46497604e+02, 7.60365904e+03, 3.04112475e+04]), array([1.00000000e+00, 5.52073014e+01, 9.86363419e+02, 3.34939641e+03,\n",
       "       0.00000000e+00]))"
      ]
     },
     "metadata": {},
     "output_type": "display_data"
    }
   ],
   "source": [
    "# Funções de transf.\n",
    "COC_1 = ct.ss(Fc,Gc[:,0],Hc,Ic[:,0])\n",
    "COC_1 = ct.tf(COC_1)\n",
    "COC_2 = ct.ss(Fc,Gc[:,1],Hc,Ic[:,1])\n",
    "COC_2 = ct.tf(COC_2)\n",
    "display(COC_1)\n",
    "display(COC_2)"
   ]
  },
  {
   "attachments": {},
   "cell_type": "markdown",
   "metadata": {},
   "source": [
    "4. *Analise e simule o sistema em malha fechada. Plote e analise os sinais de saída e de controle (20%). Opcional: faça uma análise de resposta a uma perturbação (+10% extra)*"
   ]
  },
  {
   "cell_type": "code",
   "execution_count": 21,
   "metadata": {},
   "outputs": [
    {
     "data": {
      "text/latex": [
       "$\\displaystyle \\dot{\\mathbf{x}} = \\left[\\begin{array}{rrrrrrr}-0.5395&0.0&0.0&982.7146&-186.6454&-991.8945&14.0459\\\\1.0&-0.5395&0.0&0.0&0.0&0.0&0.0\\\\0.0&0.0&-0.7&982.7146&-186.6454&-991.8945&14.0459\\\\-70171.549&11752.7365&70171.549&71153.7241&-11939.3819&-71163.4435&14.0459\\\\-87.3942&14.6373&87.3942&88.3942&-15.1768&-87.3942&0.0\\\\-70201.1601&11757.6959&70201.1601&71183.8747&-11944.3413&-71193.7546&14.0459\\\\64.2734&-10.7649&-64.2734&0.0&0.0&0.0&0.0\\\\\\end{array}\\right]\\mathbf{x}+\\left[\\begin{array}{r}0.0\\\\0.0\\\\0.0\\\\0.0\\\\0.0\\\\0.0\\\\1.0\\\\\\end{array}\\right]\\mathbf{u}$"
      ],
      "text/plain": [
       "<IPython.core.display.Math object>"
      ]
     },
     "metadata": {},
     "output_type": "display_data"
    },
    {
     "data": {
      "text/latex": [
       "$\\displaystyle \\mathbf{y} = \\left[\\begin{array}{rrrrrrr}-64.2734&10.7649&64.2734&0.0&0.0&0.0&0.0\\\\\\end{array}\\right]\\mathbf{x} + \\left[\\begin{array}{r}0.0\\\\\\end{array}\\right]\\mathbf{u}$"
      ],
      "text/plain": [
       "<IPython.core.display.Math object>"
      ]
     },
     "metadata": {},
     "output_type": "display_data"
    }
   ],
   "source": [
    "# Analisa o sistema em malha fechada\n",
    "Fmf = np.block([[F,-G@Ka],[L1@H,Fl-Gl@Ka-L0@Hl]])\n",
    "Gmf = np.block([[np.zeros((F.shape[0],1))],[M]])\n",
    "Hmf = np.block([H,np.zeros((Hl.shape))])\n",
    "Imf = np.zeros((Hmf.shape[0],Gmf.shape[1]))\n",
    "MF = ct.ss(Fmf,Gmf,Hmf,Imf)\n",
    "esc.sist(Fmf.round(4),Gmf.round(4),Hmf.round(4),Imf)"
   ]
  },
  {
   "cell_type": "code",
   "execution_count": 22,
   "metadata": {},
   "outputs": [
    {
     "name": "stdout",
     "output_type": "stream",
     "text": [
      "_____Eigenvalue______ Damping___ Frequency_\n",
      "    -30.68                     1      30.68\n",
      "    -7.671    +3.422j     0.9132        8.4\n",
      "    -7.671    -3.422j     0.9132        8.4\n",
      "    -4.384 +0.004402j          1      4.384\n",
      "    -4.384 -0.004402j          1      4.384\n",
      "    -1.096   +0.4889j     0.9132        1.2\n",
      "    -1.096   -0.4889j     0.9132        1.2\n",
      "Projeto regulador: [[-1.09589041+0.48890102j -1.09589041-0.48890102j -4.38356164+0.j\n",
      "  -4.38356164+0.j        ]]\n",
      "Projeto observador [[ -7.67123288+3.42230714j  -7.67123288-3.42230714j\n",
      "  -30.68493151+0.j        ]]\n",
      "Zeros: [-30.68493144+0.j          -7.67123291+3.42230709j\n",
      "  -7.67123291-3.42230709j  -4.38752784+0.j        ]\n"
     ]
    }
   ],
   "source": [
    "# Relatório de polos\n",
    "tab=ct.damp(MF)\n",
    "print('Projeto regulador:', polos_re)\n",
    "print('Projeto estimador' , polos_estimador)\n",
    "print('Zeros:', MF.zeros())"
   ]
  },
  {
   "attachments": {},
   "cell_type": "markdown",
   "metadata": {},
   "source": [
    "Aqui foi nos mostrado as informações dos polos, frequências e zeros, e como podemos ver os zeros estão se cancelando com os polos, pois mesmo que seja feita várias realimentações, os zeros não mudam, só podem ser cancelados com os polos de mesmo valor desses zeros, e foi isso que eu fiz, eu fiz algumas modificações principalmente nos polos regulares para que conseguissem se cancelar, ja os polos estimados conseguiram cancelar os zeros de primeira, então não precisei mexer neles. Esse cancelamento dos zeros é necessário para eles não causarem problemas ao sistema como oscilações ou instabilidade."
   ]
  },
  {
   "cell_type": "code",
   "execution_count": 23,
   "metadata": {},
   "outputs": [],
   "source": [
    "# Simulação de estado inicial\n",
    "resp = ct.step_response(MF,15)"
   ]
  },
  {
   "cell_type": "code",
   "execution_count": 24,
   "metadata": {},
   "outputs": [],
   "source": [
    "# Cálculo do sinal de controle\n",
    "u = -Ka@resp.states[3:,:]"
   ]
  },
  {
   "cell_type": "code",
   "execution_count": 25,
   "metadata": {},
   "outputs": [
    {
     "data": {
      "image/png": "[encoded data removed]",
      "text/plain": [
       "<Figure size 1400x600 with 2 Axes>"
      ]
     },
     "metadata": {},
     "output_type": "display_data"
    }
   ],
   "source": [
    "from matplotlib import pyplot as plt\n",
    "# Plotagem da resposta\n",
    "plt.figure(figsize=(14,6))\n",
    "plt.subplot(211)\n",
    "plt.plot(resp.t,resp.outputs)\n",
    "plt.xlabel('Tempo (seg)')\n",
    "plt.ylabel('Saída da planta')\n",
    "plt.title('Resposta ao degrau unitário')\n",
    "plt.grid()\n",
    "# Calcula e plota o sinal de controle\n",
    "plt.subplot(212)\n",
    "plt.plot(resp.t,u.T)\n",
    "plt.xlabel('Tempo (seg)')\n",
    "plt.ylabel('Sinal de controle')\n",
    "plt.grid()"
   ]
  },
  {
   "attachments": {},
   "cell_type": "markdown",
   "metadata": {},
   "source": [
    "Vamos tentar interpretar um pouco esses dois gráficos, no primeiro mostra a saída da planta que tem uma demora para subir e se acomodar, mas com a realimentação vai conseguir diminuir esses dois valores e na saída teremos os dois valores de subida e acomodação menores como mostra no segundo gráfico, como nessa segunda situação o sistema está mais rápio e tem overshoot, porque ele tenta ir tão rápido que passa o desejado, mas depois volta para o lugar certo até entrar em regime permanente, já o primeiro, não tem overshoot, mas fica o sistema lerdo."
   ]
  },
  {
   "attachments": {},
   "cell_type": "markdown",
   "metadata": {},
   "source": [
    "considerações finais: é importante saber a utilidade do compensador de estado de ordem completa, pois ele tenta melhorar o sistema, o deixando mais rápido, tentando lhe deixar estável, melhorando o desenpenho, ele permite que haja o controle de várias variaveis de controle e considerando suas interações e influências mútuas. ele consegue fazer isso usando informações internas do sistema para fazer algumas correções para deixa tudo funcionando do jeito desejável,usando um exemplo, ele é como um supervisor que fica de olho na empresa onde trabalha para que tudo ocorra de forma organizada e melhorada."
   ]
  }
 ],
 "metadata": {
  "kernelspec": {
   "display_name": "Python 3.9.12 ('base')",
   "language": "python",
   "name": "python3"
  },
  "language_info": {
   "codemirror_mode": {
    "name": "ipython",
    "version": 3
   },
   "file_extension": ".py",
   "mimetype": "text/x-python",
   "name": "python",
   "nbconvert_exporter": "python",
   "pygments_lexer": "ipython3",
   "version": "3.10.4"
  },
  "orig_nbformat": 4,
  "vscode": {
   "interpreter": {
    "hash": "3e3763a57b4ffe0d06e963ec4b7f8ef3a748cbfdb342037439726ee83e94c05b"
   }
  }
 },
 "nbformat": 4,
 "nbformat_minor": 2
}
