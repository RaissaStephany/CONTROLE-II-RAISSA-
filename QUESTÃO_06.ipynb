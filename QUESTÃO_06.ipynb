{
 "cells": [
  {
   "cell_type": "code",
   "execution_count": 1,
   "metadata": {},
   "outputs": [],
   "source": [
    "import numpy as np\n",
    "from escrever import *\n",
    "import numpy as np\n",
    "from IPython.display import display, Math\n",
    "from escrever import *\n",
    "esc = escrever()"
   ]
  },
  {
   "attachments": {},
   "cell_type": "markdown",
   "metadata": {},
   "source": [
    "$$\n",
    "\\begin{align*}\n",
    "G(s) &= \\frac{s-0.3}{s^2+35s+304}\\\\\n",
    "\n",
    "\\\\ \\mathbf{\\dot{x}} &= \\begin{bmatrix}\n",
    "    -35 & -304 \\\\ 1 & 0 \n",
    "\\end{bmatrix} \\mathbf{x} +\n",
    "\\begin{bmatrix}\n",
    "    1 \\\\ 0 \n",
    "\\end{bmatrix} \\mathbf{u}\\\\\n",
    "\n",
    "\\mathbf{y} &= \\begin{bmatrix}\n",
    "    1 & -0.3\n",
    "\\end{bmatrix} \\mathbf{x}\n",
    "\n",
    "\\end{align*}\n",
    "$$"
   ]
  },
  {
   "cell_type": "code",
   "execution_count": null,
   "metadata": {},
   "outputs": [],
   "source": [
    "T = np.array([[0,304],[3,5]])\n",
    "F = np.array([[-4,0],[0,-3]])\n",
    "G = np.ones((2,1))\n",
    "H = np.array([[2,-1]])\n",
    "iT = np.linalg.inv(T)\n",
    "\n",
    "A = (iT@F@T).round(decimals=4)  # (iT @ F) @ T\n",
    "B = (iT@G).round(decimals=4)\n",
    "C = (H@T).round(decimals=4)\n",
    "iT = iT.round(decimals=4)"
   ]
  }
 ],
 "metadata": {
  "kernelspec": {
   "display_name": "Python 3",
   "language": "python",
   "name": "python3"
  },
  "language_info": {
   "codemirror_mode": {
    "name": "ipython",
    "version": 3
   },
   "file_extension": ".py",
   "mimetype": "text/x-python",
   "name": "python",
   "nbconvert_exporter": "python",
   "pygments_lexer": "ipython3",
   "version": "3.10.4"
  },
  "orig_nbformat": 4
 },
 "nbformat": 4,
 "nbformat_minor": 2
}
