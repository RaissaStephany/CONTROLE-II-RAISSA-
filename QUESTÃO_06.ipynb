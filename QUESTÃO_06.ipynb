{
 "cells": [
  {
   "cell_type": "code",
   "execution_count": 2,
   "metadata": {},
   "outputs": [],
   "source": [
    "import numpy as np\n",
    "from escrever import *\n",
    "import numpy as np\n",
    "from IPython.display import display, Math\n",
    "from escrever import *\n",
    "import sympy as sp\n",
    "esc = escrever()"
   ]
  },
  {
   "cell_type": "code",
   "execution_count": 5,
   "metadata": {},
   "outputs": [
    {
     "data": {
      "text/latex": [
       "$\\displaystyle H(s) = \\frac{12 s - 3.6}{s^{2} + 35 s + 304}$"
      ],
      "text/plain": [
       "<IPython.core.display.Math object>"
      ]
     },
     "metadata": {},
     "output_type": "display_data"
    }
   ],
   "source": [
    "# Utilize H(s) como:\n",
    "z = np.random.randint(low=-10,high=9,size=1)\n",
    "p = np.random.randint(10,20,2)\n",
    "s = sp.symbols('s')\n",
    "L1 = [(s+l) for l in p]\n",
    "L2 = [(s-l/10) for l in z]\n",
    "num = np.random.randint(1,20)*sp.prod(L2).expand()\n",
    "den = sp.prod(L1).expand()\n",
    "H = num/den\n",
    "display(Math('H(s) = ' + sp.latex(H)))"
   ]
  },
  {
   "attachments": {},
   "cell_type": "markdown",
   "metadata": {},
   "source": [
    "$$\n",
    "\\begin{align*}\n",
    "H(s) &= \\frac{12s-3.6}{s^2+35s+304}\\\\\n",
    "\n",
    "\\\\ \\mathbf{\\dot{x}} &= \\begin{bmatrix}\n",
    "    -35 & -304 \\\\ 1 & 0 \n",
    "\\end{bmatrix} \\mathbf{x} +\n",
    "\\begin{bmatrix}\n",
    "    1 \\\\ 0 \n",
    "\\end{bmatrix} \\mathbf{u}\\\\\n",
    "\n",
    "\\mathbf{y} &= \\begin{bmatrix}\n",
    "    12 & -3.6\n",
    "\\end{bmatrix} \\mathbf{x}\n",
    "\n",
    "\\end{align*}\n",
    "$$"
   ]
  },
  {
   "attachments": {},
   "cell_type": "markdown",
   "metadata": {},
   "source": [
    "$$\n",
    "\\begin{align*}\n",
    "\\mathbf{T} = \\begin{bmatrix}\n",
    "    -2 & 1 \\\\ 3 & -1\n",
    "\\end{bmatrix}\n",
    "\\end{align*}\n",
    "$$"
   ]
  },
  {
   "cell_type": "code",
   "execution_count": 20,
   "metadata": {},
   "outputs": [
    {
     "data": {
      "text/latex": [
       "$\\displaystyle \\mathbf{T} = \\left[\\begin{array}{rr}-2&1\\\\3&-1\\\\\\end{array}\\right]$"
      ],
      "text/plain": [
       "<IPython.core.display.Math object>"
      ]
     },
     "metadata": {},
     "output_type": "display_data"
    },
    {
     "data": {
      "text/latex": [
       "$\\displaystyle \\mathbf{T}^{-1} = \\left[\\begin{array}{rr}1.0&1.0\\\\3.0&2.0\\\\\\end{array}\\right]$"
      ],
      "text/plain": [
       "<IPython.core.display.Math object>"
      ]
     },
     "metadata": {},
     "output_type": "display_data"
    },
    {
     "data": {
      "text/latex": [
       "$\\displaystyle \\mathbf{A}_{\\text{novo}} = \\left[\\begin{array}{rr}1.0&1.0\\\\3.0&2.0\\\\\\end{array}\\right]\\left[\\begin{array}{rr}-35&-304\\\\1&0\\\\\\end{array}\\right]\\left[\\begin{array}{rr}-2&1\\\\3&-1\\\\\\end{array}\\right]$"
      ],
      "text/plain": [
       "<IPython.core.display.Math object>"
      ]
     },
     "metadata": {},
     "output_type": "display_data"
    },
    {
     "data": {
      "text/latex": [
       "$\\displaystyle \\mathbf{A}_{\\text{novo}} = \\left[\\begin{array}{rr}-844.0&270.0\\\\-2530.0&809.0\\\\\\end{array}\\right]$"
      ],
      "text/plain": [
       "<IPython.core.display.Math object>"
      ]
     },
     "metadata": {},
     "output_type": "display_data"
    },
    {
     "data": {
      "text/latex": [
       "$\\displaystyle \\mathbf{B}_{\\text{novo}} = \\left[\\begin{array}{rr}1.0&1.0\\\\3.0&2.0\\\\\\end{array}\\right]\\left[\\begin{array}{rr}12&-3\\\\\\end{array}\\right]$"
      ],
      "text/plain": [
       "<IPython.core.display.Math object>"
      ]
     },
     "metadata": {},
     "output_type": "display_data"
    },
    {
     "data": {
      "text/latex": [
       "$\\displaystyle \\mathbf{B}_{\\text{novo}} = \\left[\\begin{array}{r}2.0\\\\5.0\\\\\\end{array}\\right]$"
      ],
      "text/plain": [
       "<IPython.core.display.Math object>"
      ]
     },
     "metadata": {},
     "output_type": "display_data"
    },
    {
     "data": {
      "text/latex": [
       "$\\displaystyle \\mathbf{C}_{\\text{novo}} = \\left[\\begin{array}{rr}12&-3\\\\\\end{array}\\right]\\left[\\begin{array}{rr}-2&1\\\\3&-1\\\\\\end{array}\\right]$"
      ],
      "text/plain": [
       "<IPython.core.display.Math object>"
      ]
     },
     "metadata": {},
     "output_type": "display_data"
    },
    {
     "data": {
      "text/latex": [
       "$\\displaystyle \\mathbf{C}_{\\text{novo}} = \\left[\\begin{array}{rr}-33&15\\\\\\end{array}\\right]$"
      ],
      "text/plain": [
       "<IPython.core.display.Math object>"
      ]
     },
     "metadata": {},
     "output_type": "display_data"
    }
   ],
   "source": [
    "T = np.array([[-2,1],[3,-1]])\n",
    "F = np.array([[-35,-304],[1,0]])\n",
    "G = np.ones((2,1))\n",
    "H = np.array([[12,-3]])\n",
    "iT = np.linalg.inv(T)\n",
    "\n",
    "A = (iT@F@T).round(decimals=4)  # (iT @ F) @ T\n",
    "B = (iT@G).round(decimals=4)\n",
    "C = (H@T).round(decimals=4)\n",
    "iT = iT.round(decimals=4)\n",
    "\n",
    "\n",
    "display(Math(r'\\mathbf{T} = ' + esc.mat(T)))\n",
    "display(Math(r'\\mathbf{T}^{-1} = ' + esc.mat(iT) ))\n",
    "display(Math(r'\\mathbf{A}_{\\text{novo}} = ' + esc.mat(iT) + esc.mat(F) + esc.mat(T)))\n",
    "display(Math(r'\\mathbf{A}_{\\text{novo}} = ' + esc.mat(A)))\n",
    "display(Math(r'\\mathbf{B}_{\\text{novo}} = ' + esc.mat(iT) + esc.mat(H)))\n",
    "display(Math(r'\\mathbf{B}_{\\text{novo}} = ' + esc.mat(B)))\n",
    "display(Math(r'\\mathbf{C}_{\\text{novo}} = ' + esc.mat(H) + esc.mat(T)))\n",
    "display(Math(r'\\mathbf{C}_{\\text{novo}} = ' + esc.mat(C)))\n"
   ]
  }
 ],
 "metadata": {
  "kernelspec": {
   "display_name": "Python 3",
   "language": "python",
   "name": "python3"
  },
  "language_info": {
   "codemirror_mode": {
    "name": "ipython",
    "version": 3
   },
   "file_extension": ".py",
   "mimetype": "text/x-python",
   "name": "python",
   "nbconvert_exporter": "python",
   "pygments_lexer": "ipython3",
   "version": "3.10.4"
  },
  "orig_nbformat": 4
 },
 "nbformat": 4,
 "nbformat_minor": 2
}
