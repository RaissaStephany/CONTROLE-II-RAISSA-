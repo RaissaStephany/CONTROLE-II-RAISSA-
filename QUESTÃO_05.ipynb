{
 "cells": [
  {
   "attachments": {},
   "cell_type": "markdown",
   "metadata": {},
   "source": [
    "5 - Determine a forma de Jordan dos seguintes sistemas:"
   ]
  },
  {
   "cell_type": "code",
   "execution_count": 1,
   "metadata": {},
   "outputs": [
    {
     "data": {
      "text/latex": [
       "$\\displaystyle G(s) = \\frac{15 \\left(s + 0.5\\right) \\left(s + 0.7\\right)}{\\left(s + 3\\right) \\left(s + 7\\right) \\left(s + 8\\right)}$"
      ],
      "text/plain": [
       "<IPython.core.display.Math object>"
      ]
     },
     "metadata": {},
     "output_type": "display_data"
    }
   ],
   "source": [
    "import numpy as np\n",
    "import scipy.signal as sig\n",
    "import sympy as sp\n",
    "import control as ct\n",
    "from escrever import *\n",
    "from IPython.display import display, Math\n",
    "esc = escrever()\n",
    "\n",
    "import sympy as sp\n",
    "z = np.random.randint(low=1,high=10,size=2)\n",
    "p = np.random.randint(-10,10,3)\n",
    "s = sp.symbols('s')\n",
    "L1 = [(s-l) for l in p]\n",
    "L2 = [(s+l/10) for l in z]\n",
    "num = np.random.randint(1,20)*sp.prod(L2)\n",
    "den = sp.prod(L1)\n",
    "G = num/den\n",
    "display(Math('G(s) = ' + sp.latex(G)))"
   ]
  },
  {
   "attachments": {},
   "cell_type": "markdown",
   "metadata": {},
   "source": [
    "a)\n",
    "\n",
    "$$\n",
    "\\begin{align*}\n",
    "G(s) = \\frac{15(s+0.5)(s+0.7)}{(s+3)(s+7)(s+8)}\n",
    "\\end{align*}\n",
    "$$"
   ]
  },
  {
   "cell_type": "code",
   "execution_count": 4,
   "metadata": {},
   "outputs": [
    {
     "name": "stdout",
     "output_type": "stream",
     "text": [
      "Resíduos:\n"
     ]
    },
    {
     "data": {
      "text/latex": [
       "$\\displaystyle \\left[\\begin{array}{rrr}4.3125&-153.5625&164.25\\\\\\end{array}\\right]$"
      ],
      "text/plain": [
       "<IPython.core.display.Math object>"
      ]
     },
     "metadata": {},
     "output_type": "display_data"
    },
    {
     "name": "stdout",
     "output_type": "stream",
     "text": [
      "Pólos:\n"
     ]
    },
    {
     "data": {
      "text/latex": [
       "$\\displaystyle \\left[\\begin{array}{rrr}-3.0&-7.0&-8.0\\\\\\end{array}\\right]$"
      ],
      "text/plain": [
       "<IPython.core.display.Math object>"
      ]
     },
     "metadata": {},
     "output_type": "display_data"
    }
   ],
   "source": [
    "num = [15, 18, 5.25]\n",
    "den = np.poly([-3, -7, -8])\n",
    "\n",
    "r,p,k = sig.residue(num,den)\n",
    "r = r.round(decimals=4)\n",
    "p = p.round(decimals=4)\n",
    "print('Resíduos:')\n",
    "display(Math(esc.mat(r.reshape([1,r.size]))))\n",
    "print('Pólos:')\n",
    "display(Math(esc.mat(p.reshape([1,p.size]))))"
   ]
  },
  {
   "attachments": {},
   "cell_type": "markdown",
   "metadata": {},
   "source": [
    "Equações de estado:\n",
    "$$\n",
    "\\begin{align*}\n",
    "    \\dot{x}_1 &= -3x_1+u\\\\\n",
    "    \\dot{x}_2 &= -7x_2+u\\\\\n",
    "    \\dot{x}_3 &= -8x_3+u\\\\\n",
    "\\end{align*}\n"
   ]
  },
  {
   "attachments": {},
   "cell_type": "markdown",
   "metadata": {},
   "source": [
    "Equação da saída:\n",
    "$$\n",
    "\\begin{align*}\n",
    "y = 4.31&x_1 -153.6x_2 + 164.25x_3\n",
    "\\end{align*}\n",
    "$$"
   ]
  },
  {
   "cell_type": "code",
   "execution_count": 5,
   "metadata": {},
   "outputs": [
    {
     "data": {
      "text/latex": [
       "$\\displaystyle \\dot{\\mathbf{x}} = \\left[\\begin{array}{rrr}-3&0&0\\\\0&-7&0\\\\0&0&-8\\\\\\end{array}\\right]\\mathbf{x}+\\left[\\begin{array}{r}1\\\\1\\\\1\\\\\\end{array}\\right]\\mathbf{u}$"
      ],
      "text/plain": [
       "<IPython.core.display.Math object>"
      ]
     },
     "metadata": {},
     "output_type": "display_data"
    },
    {
     "data": {
      "text/latex": [
       "$\\displaystyle \\mathbf{y} = \\left[\\begin{array}{rrr}4.31&-153.6&164.25\\\\\\end{array}\\right]\\mathbf{x} + \\left[\\begin{array}{r}0\\\\\\end{array}\\right]\\mathbf{u}$"
      ],
      "text/plain": [
       "<IPython.core.display.Math object>"
      ]
     },
     "metadata": {},
     "output_type": "display_data"
    }
   ],
   "source": [
    "A = np.array([[-3,0,0],[0,-7,0],[0,0,-8]])\n",
    "B = np.array([[1],[1],[1]])\n",
    "C = np.array([[4.31, -153.6, 164.25]])\n",
    "D = np.array([[0]])\n",
    "\n",
    "sistema = ct.ss(A,B,C,D)\n",
    "esc.sist(A,B,C,D)"
   ]
  },
  {
   "cell_type": "code",
   "execution_count": 6,
   "metadata": {},
   "outputs": [
    {
     "data": {
      "text/latex": [
       "$\\displaystyle G(s) = \\frac{14 \\left(s + 0.3\\right) \\left(s + 0.7\\right)}{\\left(s - 5\\right)^{3} \\left(s - 1\\right) \\left(s + 7\\right)}$"
      ],
      "text/plain": [
       "<IPython.core.display.Math object>"
      ]
     },
     "metadata": {},
     "output_type": "display_data"
    }
   ],
   "source": [
    "# (b)\n",
    "import sympy as sp\n",
    "z = np.random.randint(low=1,high=10,size=2)\n",
    "p = np.random.randint(-10,10,3)\n",
    "p = np.append(p,[p[-1]]*2)\n",
    "s = sp.symbols('s')\n",
    "L1 = [(s-l) for l in p]\n",
    "L2 = [(s+l/10) for l in z]\n",
    "num = np.random.randint(1,20)*sp.prod(L2)\n",
    "den = sp.prod(L1)\n",
    "G = num/den\n",
    "display(Math('G(s) = ' + sp.latex(G)))\n"
   ]
  },
  {
   "attachments": {},
   "cell_type": "markdown",
   "metadata": {},
   "source": [
    "b)\n",
    "\n",
    "$$\n",
    "\\begin{align*}\n",
    "G(s) = \\frac{14(s+0.3)(s+0.7)}{(s-5)^3(s-1)(s+7)}\n",
    "\\end{align*}\n",
    "$$"
   ]
  },
  {
   "cell_type": "code",
   "execution_count": 11,
   "metadata": {},
   "outputs": [
    {
     "name": "stdout",
     "output_type": "stream",
     "text": [
      "Resíduos:\n"
     ]
    },
    {
     "data": {
      "text/latex": [
       "$\\displaystyle \\left[\\begin{array}{rrrrr}(-0.0643+0j)&(0.0214+0j)&(0.2576+0j)&(8.8521+0j)&(0.0429+0j)\\\\\\end{array}\\right]$"
      ],
      "text/plain": [
       "<IPython.core.display.Math object>"
      ]
     },
     "metadata": {},
     "output_type": "display_data"
    },
    {
     "name": "stdout",
     "output_type": "stream",
     "text": [
      "Pólos:\n"
     ]
    },
    {
     "data": {
      "text/latex": [
       "$\\displaystyle \\left[\\begin{array}{rrrrr}(1+0j)&(5+0j)&(5+0j)&(5+0j)&(-7+0j)\\\\\\end{array}\\right]$"
      ],
      "text/plain": [
       "<IPython.core.display.Math object>"
      ]
     },
     "metadata": {},
     "output_type": "display_data"
    }
   ],
   "source": [
    "num = [14, 14, 4.9]\n",
    "den = np.convolve([1,-5],[1,-5])\n",
    "den = np.convolve(den,[1,-5])\n",
    "den = np.convolve(den,[1,-1])\n",
    "den = np.convolve(den,[1,7])\n",
    "r,p,k = sig.residue(num,den)\n",
    "r = r.round(decimals=4)\n",
    "p = p.round(decimals=4)\n",
    "print('Resíduos:')\n",
    "display(Math(esc.mat(r.reshape([1,r.size]))))\n",
    "print('Pólos:')\n",
    "display(Math(esc.mat(p.reshape([1,p.size]))))\n"
   ]
  },
  {
   "attachments": {},
   "cell_type": "markdown",
   "metadata": {},
   "source": [
    "Equações de estados:\n",
    "$$\n",
    "\\begin{align*}\n",
    "    \\dot{x}_1 &= -x_1+u\\\\\n",
    "    \\dot{x}_2 &= -5x_2+u\\\\\n",
    "    \\dot{x}_3 &= x_2 - 5x_3\\\\\n",
    "    \\dot{x}_4 &= x_3 - 5x_4\\\\\n",
    "    \\dot{x}_5 &= 7x_5+ u\\\\\n",
    "\\end{align*}\n",
    "$$"
   ]
  },
  {
   "attachments": {},
   "cell_type": "markdown",
   "metadata": {},
   "source": [
    "Equação da saída:\n",
    "$$\n",
    "\\begin{align*}\n",
    "y = −0.06x_1+0.02x_2+0.26x_3+8.85x_4+0.043x_5\n",
    "\\end{align*}\n",
    "$$"
   ]
  },
  {
   "cell_type": "code",
   "execution_count": 14,
   "metadata": {},
   "outputs": [
    {
     "data": {
      "text/latex": [
       "$\\displaystyle \\dot{\\mathbf{x}} = \\left[\\begin{array}{rrrrr}-1&0&0&0&0\\\\0&-5&0&0&0\\\\0&1&-5&0&0\\\\0&0&1&-5&0\\\\0&0&0&0&7\\\\\\end{array}\\right]\\mathbf{x}+\\left[\\begin{array}{r}1\\\\1\\\\0\\\\0\\\\1\\\\\\end{array}\\right]\\mathbf{u}$"
      ],
      "text/plain": [
       "<IPython.core.display.Math object>"
      ]
     },
     "metadata": {},
     "output_type": "display_data"
    },
    {
     "data": {
      "text/latex": [
       "$\\displaystyle \\mathbf{y} = \\left[\\begin{array}{rrrrr}-0.06&0.02&0.26&8.85&0.043\\\\\\end{array}\\right]\\mathbf{x} + \\left[\\begin{array}{r}0\\\\\\end{array}\\right]\\mathbf{u}$"
      ],
      "text/plain": [
       "<IPython.core.display.Math object>"
      ]
     },
     "metadata": {},
     "output_type": "display_data"
    }
   ],
   "source": [
    "A = np.array([[-1,0,0,0,0],[0,-5,0,0,0],[0,1,-5,0,0],[0,0,1,-5,0],[0,0,0,0,7]])\n",
    "B = np.array([[1],[1],[0],[0],[1]])\n",
    "C = np.array([[-0.06, 0.02, 0.26, 8.85, 0.043]])\n",
    "D = np.array([[0]])\n",
    "\n",
    "sistema = ct.ss(A,B,C,D)\n",
    "esc.sist(A,B,C,D)"
   ]
  },
  {
   "cell_type": "code",
   "execution_count": 40,
   "metadata": {},
   "outputs": [
    {
     "data": {
      "text/latex": [
       "$\\displaystyle G(s) = \\frac{9 \\left(s + 0.2\\right) \\left(s + 0.7\\right)}{s^{3} + s^{2} - 56 s - 306}$"
      ],
      "text/plain": [
       "<IPython.core.display.Math object>"
      ]
     },
     "metadata": {},
     "output_type": "display_data"
    }
   ],
   "source": [
    "# (c)\n",
    "import sympy as sp\n",
    "z = np.random.randint(low=1,high=10,size=2)\n",
    "p = np.random.randint(-10,10,3)\n",
    "s = sp.symbols('s')\n",
    "L1 = [(s-p[0]), s-(p[1]+sp.I*p[2]), s-(p[1]-sp.I*p[2])]\n",
    "L2 = [(s+l/10) for l in z]\n",
    "num = np.random.randint(1,20)*sp.prod(L2)\n",
    "den = sp.prod(L1).expand()\n",
    "G = num/den\n",
    "display(Math('G(s) = ' + sp.latex(G)))"
   ]
  },
  {
   "attachments": {},
   "cell_type": "markdown",
   "metadata": {},
   "source": [
    "c) \n",
    "$$\n",
    "\\begin{align*}\n",
    "G(s) = \\frac{9(s+0.2)(s+0.7)}{s^3-2s^2-56s-306}\\\\\n",
    "\\\\ G(s) = \\frac{9s^2+8.1s+1.26}{s^3-2s^2-56s-306}\n",
    "\\end{align*}\n",
    "$$"
   ]
  },
  {
   "cell_type": "code",
   "execution_count": 43,
   "metadata": {},
   "outputs": [
    {
     "name": "stdout",
     "output_type": "stream",
     "text": [
      "Resíduos:\n"
     ]
    },
    {
     "data": {
      "text/latex": [
       "$\\displaystyle \\left[\\begin{array}{rrr}(2.1507+0.6343j)&(2.1507-0.6343j)&(4.6985+0j)\\\\\\end{array}\\right]$"
      ],
      "text/plain": [
       "<IPython.core.display.Math object>"
      ]
     },
     "metadata": {},
     "output_type": "display_data"
    },
    {
     "name": "stdout",
     "output_type": "stream",
     "text": [
      "Pólos:\n"
     ]
    },
    {
     "data": {
      "text/latex": [
       "$\\displaystyle \\left[\\begin{array}{rrr}(-4.1551+3.5234j)&(-4.1551-3.5234j)&(10.3102+0j)\\\\\\end{array}\\right]$"
      ],
      "text/plain": [
       "<IPython.core.display.Math object>"
      ]
     },
     "metadata": {},
     "output_type": "display_data"
    }
   ],
   "source": [
    "num = [9, 8.1, 1.26]\n",
    "den = [1, -2, -56, -306]\n",
    "\n",
    "r,p,k = sig.residue(num,den)\n",
    "r = r.round(decimals=4)\n",
    "p = p.round(decimals=4)\n",
    "print('Resíduos:')\n",
    "display(Math(esc.mat(r.reshape([1,r.size]))))\n",
    "print('Pólos:')\n",
    "display(Math(esc.mat(p.reshape([1,p.size]))))"
   ]
  },
  {
   "attachments": {},
   "cell_type": "markdown",
   "metadata": {},
   "source": [
    "$$\n",
    "\\begin{align*}\n",
    "G(s) = \\frac{2.15+0.63j}{s+4.15-3.5j}+\\frac{2.15+0.63j}{s+4.15+3.5j}+\\frac{4.7}{s-10.3}\n",
    "\\end{align*}\n",
    "$$"
   ]
  },
  {
   "attachments": {},
   "cell_type": "markdown",
   "metadata": {},
   "source": [
    "Equações de estado:\n",
    "$$\n",
    "\\begin{align*}\n",
    "    \\dot{R} &= \\sigma R - \\omega I + u\\\\\n",
    "    \\dot{I} &= \\omega R+ \\sigma I + u\\\\\n",
    "    y &= 2aR - 2bI\\\\\n",
    "\\end{align*}\n",
    "$$"
   ]
  },
  {
   "attachments": {},
   "cell_type": "markdown",
   "metadata": {},
   "source": [
    "$$\n",
    "\\begin{align*}\n",
    "\\dot{x}_1 &= -4.15x_1-3.5x_2+u\\\\\n",
    "\\dot{x}_2 &= 3.5x_2 - 4.15x_3+u\\\\\n",
    "\\dot{x}_3 &= 10.3x_3+u\\\\\n",
    "\\end{align*}\n",
    "$$"
   ]
  },
  {
   "attachments": {},
   "cell_type": "markdown",
   "metadata": {},
   "source": [
    "Equação saída:\n",
    "$$\n",
    "\\begin{align*}  y = 4.3x_1-1.26x_2- 4.7x_3   \\end{align*}\n",
    "$$\n"
   ]
  },
  {
   "cell_type": "code",
   "execution_count": 46,
   "metadata": {},
   "outputs": [
    {
     "data": {
      "text/latex": [
       "$\\displaystyle \\dot{\\mathbf{x}} = \\left[\\begin{array}{rrr}-4.15&-3.5&0.0\\\\0.0&3.5&-4.15\\\\0.0&0.0&10.3\\\\\\end{array}\\right]\\mathbf{x}+\\left[\\begin{array}{r}1\\\\1\\\\1\\\\\\end{array}\\right]\\mathbf{u}$"
      ],
      "text/plain": [
       "<IPython.core.display.Math object>"
      ]
     },
     "metadata": {},
     "output_type": "display_data"
    },
    {
     "data": {
      "text/latex": [
       "$\\displaystyle \\mathbf{y} = \\left[\\begin{array}{rrr}4.3&-1.26&-4.7\\\\\\end{array}\\right]\\mathbf{x} + \\left[\\begin{array}{r}0\\\\\\end{array}\\right]\\mathbf{u}$"
      ],
      "text/plain": [
       "<IPython.core.display.Math object>"
      ]
     },
     "metadata": {},
     "output_type": "display_data"
    }
   ],
   "source": [
    "A = np.array([[-4.15,-3.5,0],[0,3.5,-4.15],[0,0,10.3]])\n",
    "B = np.array([[1],[1],[1]])\n",
    "C = np.array([[4.3, -1.26, -4.7]])\n",
    "D = np.array([[0]])\n",
    "\n",
    "sistema = ct.ss(A,B,C,D)\n",
    "esc.sist(A,B,C,D)"
   ]
  }
 ],
 "metadata": {
  "kernelspec": {
   "display_name": "Python 3",
   "language": "python",
   "name": "python3"
  },
  "language_info": {
   "codemirror_mode": {
    "name": "ipython",
    "version": 3
   },
   "file_extension": ".py",
   "mimetype": "text/x-python",
   "name": "python",
   "nbconvert_exporter": "python",
   "pygments_lexer": "ipython3",
   "version": "3.10.4"
  },
  "orig_nbformat": 4
 },
 "nbformat": 4,
 "nbformat_minor": 2
}
