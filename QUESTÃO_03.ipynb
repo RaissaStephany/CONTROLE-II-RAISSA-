{
 "cells": [
  {
   "attachments": {},
   "cell_type": "markdown",
   "metadata": {},
   "source": [
    "3 - Estude a controlabilidade do sistema abaixo"
   ]
  },
  {
   "cell_type": "code",
   "execution_count": 1,
   "metadata": {},
   "outputs": [
    {
     "data": {
      "text/latex": [
       "$\\displaystyle \\dot{\\mathbf{x}} = \\left[\\begin{array}{rrr}0&0&0\\\\1&0&0\\\\0&0&-8\\\\\\end{array}\\right]\\mathbf{x}+\\left[\\begin{array}{r}1\\\\1\\\\0\\\\\\end{array}\\right]\\mathbf{u}$"
      ],
      "text/plain": [
       "<IPython.core.display.Math object>"
      ]
     },
     "metadata": {},
     "output_type": "display_data"
    },
    {
     "data": {
      "text/latex": [
       "$\\displaystyle \\mathbf{y} = \\left[\\begin{array}{rrr}5&-2&-1\\\\\\end{array}\\right]\\mathbf{x} + \\left[\\begin{array}{r}0\\\\\\end{array}\\right]\\mathbf{u}$"
      ],
      "text/plain": [
       "<IPython.core.display.Math object>"
      ]
     },
     "metadata": {},
     "output_type": "display_data"
    }
   ],
   "source": [
    "import numpy as np\n",
    "import control as ct\n",
    "from IPython.display import display, Math\n",
    "from escrever import *\n",
    "esc = escrever()\n",
    "\n",
    "roll = lambda : np.random.randint(-9,9)\n",
    "A = np.array([[roll(),0,0],[1,roll(),0],[0,0,roll()]])\n",
    "B = np.random.randint(0,2,(3,1))\n",
    "C = np.random.randint(-9,9,(1,3))\n",
    "D = np.array([[0]])\n",
    "esc.sist(A,B,C,D)"
   ]
  },
  {
   "attachments": {},
   "cell_type": "markdown",
   "metadata": {},
   "source": [
    "$$\n",
    "\\begin{align*}\n",
    "\n",
    "\\mathbf{\\dot{x}} = \\begin{bmatrix}\n",
    "0 & 0 & 0\\\\ 1 & 8 & 0 \\\\ 0 & 0 & -8\n",
    "\\end{bmatrix} \\mathbf{x} + \n",
    "\\begin{bmatrix}\n",
    "1 \\\\ 1 \\\\ 0\n",
    "\\end{bmatrix} \\mathbf{u}\\\\\n",
    "\n",
    "\\\\ \\mathbf{y} = \\begin{bmatrix}\n",
    "5 & -2 & -1\n",
    "\\end{bmatrix} \\mathbf{x} + \n",
    "\\begin{bmatrix}  \n",
    "0  \n",
    "\\end{bmatrix} \\mathbf{u}\n",
    "\n",
    "\\end{align*}\n",
    "$$"
   ]
  },
  {
   "cell_type": "code",
   "execution_count": 2,
   "metadata": {},
   "outputs": [
    {
     "data": {
      "text/latex": [
       "$\\displaystyle \\dot{\\mathbf{x}} = \\left[\\begin{array}{rrr}0&0&0\\\\1&8&0\\\\0&0&-8\\\\\\end{array}\\right]\\mathbf{x}+\\left[\\begin{array}{r}1\\\\1\\\\0\\\\\\end{array}\\right]\\mathbf{u}$"
      ],
      "text/plain": [
       "<IPython.core.display.Math object>"
      ]
     },
     "metadata": {},
     "output_type": "display_data"
    },
    {
     "data": {
      "text/latex": [
       "$\\displaystyle \\mathbf{y} = \\left[\\begin{array}{rrr}5&-2&-1\\\\\\end{array}\\right]\\mathbf{x} + \\left[\\begin{array}{r}0\\\\\\end{array}\\right]\\mathbf{u}$"
      ],
      "text/plain": [
       "<IPython.core.display.Math object>"
      ]
     },
     "metadata": {},
     "output_type": "display_data"
    }
   ],
   "source": [
    "#Declarando o sistema:\n",
    "\n",
    "A = np.array([[0,0,0],[1,8,0],[0,0,-8]])\n",
    "B = np.array([[1],[1],[0]])\n",
    "C = np.array([[5,-2,-1]])\n",
    "D = np.array([[0]])\n",
    "\n",
    "sistema = ct.ss(A,B,C,D)\n",
    "esc.sist(A,B,C,D)"
   ]
  },
  {
   "cell_type": "code",
   "execution_count": 3,
   "metadata": {},
   "outputs": [
    {
     "data": {
      "text/latex": [
       "$\\displaystyle \\mathcal{C}=\\left[\\begin{array}{rrr}1.0&0.0&0.0\\\\1.0&9.0&72.0\\\\0.0&0.0&0.0\\\\\\end{array}\\right]$"
      ],
      "text/plain": [
       "<IPython.core.display.Math object>"
      ]
     },
     "metadata": {},
     "output_type": "display_data"
    }
   ],
   "source": [
    "Con = (ct.ctrb(A,B))\n",
    "display(Math(r'\\mathcal{C}=' + esc.mat(Con)))"
   ]
  },
  {
   "cell_type": "code",
   "execution_count": 5,
   "metadata": {},
   "outputs": [
    {
     "name": "stdout",
     "output_type": "stream",
     "text": [
      "det(C) =  0.0\n"
     ]
    }
   ],
   "source": [
    "print('det(C) = ', np.linalg.det(Con))"
   ]
  },
  {
   "attachments": {},
   "cell_type": "markdown",
   "metadata": {},
   "source": [
    "A controlabilidade é a capacidade do sistema ser controlado, uma caracteristica é justamente conseguir alterar seu estado por meio da aplicação de um sinal externo.\n",
    "\n",
    "para saber se o sistema é controlável, temos que utilizar a equação:\n",
    "\n",
    "$$\n",
    "\\begin{align}\n",
    "\\mathbf{\\mathcal{C}} &= \\left[\\begin{array}{ccccc} \\mathbf{B} & \\mathbf{AB} & \\mathbf{A^2B} & \\ldots & \\mathbf{A^{n-1}B}\\end{array}\\right]\n",
    "\\end{align}\n",
    "$$\n",
    "Para que um sistema seja controlável, ele deve ter o determinante diferente de zero\n",
    "\n",
    "Como vimos o nosso sistema tem o determinate de $\\mathbf{\\mathcal{C}}$ igual a zero, logo ele não é controlável"
   ]
  }
 ],
 "metadata": {
  "kernelspec": {
   "display_name": "Python 3",
   "language": "python",
   "name": "python3"
  },
  "language_info": {
   "codemirror_mode": {
    "name": "ipython",
    "version": 3
   },
   "file_extension": ".py",
   "mimetype": "text/x-python",
   "name": "python",
   "nbconvert_exporter": "python",
   "pygments_lexer": "ipython3",
   "version": "3.10.4"
  },
  "orig_nbformat": 4
 },
 "nbformat": 4,
 "nbformat_minor": 2
}
