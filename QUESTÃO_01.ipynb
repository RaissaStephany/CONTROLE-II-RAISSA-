{
 "cells": [
  {
   "attachments": {},
   "cell_type": "markdown",
   "metadata": {},
   "source": [
    "# Lista de Exercícios 1 - Sistemas de Conotrole II"
   ]
  },
  {
   "attachments": {},
   "cell_type": "markdown",
   "metadata": {},
   "source": [
    "1 - Determine a ordem, número de entradas e número de saídas do seguinte sistema. Justifique suas respostas."
   ]
  },
  {
   "cell_type": "code",
   "execution_count": 1,
   "metadata": {},
   "outputs": [
    {
     "data": {
      "text/latex": [
       "$\\displaystyle \\dot{\\mathbf{x}} = \\left[\\begin{array}{rrrr}0.781&0.507&-1.169&1.254\\\\0.195&1.512&-0.075&1.844\\\\-0.103&1.36&0.214&-1.767\\\\0.729&-2.257&-1.433&1.961\\\\\\end{array}\\right]\\mathbf{x}+\\left[\\begin{array}{r}1.456\\\\1.12\\\\-0.968\\\\0.705\\\\\\end{array}\\right]\\mathbf{u}$"
      ],
      "text/plain": [
       "<IPython.core.display.Math object>"
      ]
     },
     "metadata": {},
     "output_type": "display_data"
    },
    {
     "data": {
      "text/latex": [
       "$\\displaystyle \\mathbf{y} = \\left[\\begin{array}{rrrr}-1.696&-1.232&-0.663&-0.474\\\\-0.006&0.209&-0.285&1.078\\\\\\end{array}\\right]\\mathbf{x} + \\left[\\begin{array}{r}-1.059\\\\1.443\\\\\\end{array}\\right]\\mathbf{u}$"
      ],
      "text/plain": [
       "<IPython.core.display.Math object>"
      ]
     },
     "metadata": {},
     "output_type": "display_data"
    }
   ],
   "source": [
    "import numpy as np\n",
    "from escrever import *\n",
    "from IPython.display import display, Math\n",
    "esc = escrever()\n",
    "\n",
    "n = np.random.randint(4,6)\n",
    "p = np.random.randint(1,4)\n",
    "q = np.random.randint(1,4)\n",
    "\n",
    "A = np.random.randn(n,n).round(decimals=3)\n",
    "B = np.random.randn(n,p).round(decimals=3)\n",
    "C = np.random.randn(q,n).round(decimals=3)\n",
    "D = np.random.randn(q,p).round(decimals=3)\n",
    "\n",
    "def dispss(A,B,C,D):\n",
    "    str1 = r'\\dot{\\mathbf{x}} = ' + esc.dispmat(A) + r'\\mathbf{x}'\n",
    "    str1 = str1 + '+' + esc.dispmat(B) + r'\\mathbf{u}'\n",
    "    str2 = r'\\mathbf{y} = ' + esc.dispmat(C) + r'\\mathbf{x} +'\n",
    "    str2 = str2 + esc.dispmat(D) + r'\\mathbf{u}'\n",
    "    return [str1,str2]\n",
    "\n",
    "esc.sist(A,B,C,D)"
   ]
  },
  {
   "attachments": {},
   "cell_type": "markdown",
   "metadata": {},
   "source": [
    "A) \n",
    "\n",
    "Ordem $4$, pois a matriz A é $4\\times 4$, já a entrada possui 1 por causa da matriz B que tem $1$ colunas, e o número de saídas é determinado pelo número de linhas na matriz C e D, ou seja 2."
   ]
  }
 ],
 "metadata": {
  "kernelspec": {
   "display_name": "Python 3",
   "language": "python",
   "name": "python3"
  },
  "language_info": {
   "codemirror_mode": {
    "name": "ipython",
    "version": 3
   },
   "file_extension": ".py",
   "mimetype": "text/x-python",
   "name": "python",
   "nbconvert_exporter": "python",
   "pygments_lexer": "ipython3",
   "version": "3.10.4"
  },
  "orig_nbformat": 4
 },
 "nbformat": 4,
 "nbformat_minor": 2
}
