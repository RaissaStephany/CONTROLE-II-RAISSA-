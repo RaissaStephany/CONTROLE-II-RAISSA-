{
 "cells": [
  {
   "attachments": {},
   "cell_type": "markdown",
   "metadata": {},
   "source": [
    "4 - Determine os valores de $k \\in \\mathbb{R}$ que tornam o sistema abaixo seja **não** controlável."
   ]
  },
  {
   "cell_type": "code",
   "execution_count": 1,
   "metadata": {},
   "outputs": [
    {
     "data": {
      "text/latex": [
       "$\\displaystyle \\dot{\\mathbf{x}} = \\left[\\begin{matrix}-9 & 6\\\\-4 & 6\\end{matrix}\\right]\\mathbf{x}+\\left[\\begin{matrix}k\\\\7\\end{matrix}\\right]u$"
      ],
      "text/plain": [
       "<IPython.core.display.Math object>"
      ]
     },
     "metadata": {},
     "output_type": "display_data"
    },
    {
     "data": {
      "text/latex": [
       "$\\displaystyle y =\\left[\\begin{matrix}5 & 1\\end{matrix}\\right]\\mathbf{x}$"
      ],
      "text/plain": [
       "<IPython.core.display.Math object>"
      ]
     },
     "metadata": {},
     "output_type": "display_data"
    }
   ],
   "source": [
    "import numpy as np\n",
    "import control as ct\n",
    "import sympy as sp\n",
    "from escrever import *\n",
    "from IPython.display import display, Math\n",
    "esc = escrever()\n",
    "\n",
    "import sympy as sp\n",
    "A = sp.Matrix(np.random.randint(low=-10,high=10,size=(2,2)))\n",
    "k = sp.symbols('k')\n",
    "B = sp.Matrix([[k],[np.random.randint(1,20)]])\n",
    "C = sp.Matrix(np.random.randint(0,10,size=(1,2)))\n",
    "s = sp.symbols('s')\n",
    "display(Math(r'\\dot{\\mathbf{x}} = ' + sp.latex(A) + r'\\mathbf{x}+' +  sp.latex(B) + 'u'))\n",
    "display(Math(r'y =' + sp.latex(C) + '\\mathbf{x}'))"
   ]
  },
  {
   "attachments": {},
   "cell_type": "markdown",
   "metadata": {},
   "source": [
    "$$\n",
    "\\begin{align*}\n",
    "\n",
    "\\mathbf{\\dot{x}} &= \\begin{bmatrix}\n",
    "-9 & 6 \\\\ -4 & 6\n",
    "\\end{bmatrix} \\mathbf{x} + \\begin{bmatrix}  k \\\\ 7 \\end{bmatrix} \\mathbf{u}\\\\\n",
    "\n",
    "\\mathbf{y} &= \\begin{bmatrix}  5 & 1 \\end{bmatrix} \\mathbf{x}\n",
    "\n",
    "\\end{align*}\n",
    "$$"
   ]
  },
  {
   "cell_type": "code",
   "execution_count": 2,
   "metadata": {},
   "outputs": [
    {
     "data": {
      "text/latex": [
       "$\\displaystyle \\dot{\\mathbf{x}} = \\left[\\begin{array}{rr}-9&6\\\\-4&6\\\\\\end{array}\\right]\\mathbf{x}+\\left[\\begin{array}{r}k\\\\7\\\\\\end{array}\\right]\\mathbf{u}$"
      ],
      "text/plain": [
       "<IPython.core.display.Math object>"
      ]
     },
     "metadata": {},
     "output_type": "display_data"
    },
    {
     "data": {
      "text/latex": [
       "$\\displaystyle \\mathbf{y} = \\left[\\begin{array}{rr}5&1\\\\\\end{array}\\right]\\mathbf{x} + \\left[\\begin{array}{r}0\\\\\\end{array}\\right]\\mathbf{u}$"
      ],
      "text/plain": [
       "<IPython.core.display.Math object>"
      ]
     },
     "metadata": {},
     "output_type": "display_data"
    }
   ],
   "source": [
    "k = sp.symbols('k')\n",
    "\n",
    "A = np.array([[-9,6],[-4,6]])\n",
    "B = np.array([[k],[7]])\n",
    "C = np.array([[5,1]])\n",
    "D = np.array([[0]])\n",
    "\n",
    "esc.sist(A,B,C,D)"
   ]
  },
  {
   "cell_type": "code",
   "execution_count": 3,
   "metadata": {},
   "outputs": [
    {
     "data": {
      "text/latex": [
       "$\\displaystyle \\mathcal{C}=\\left[\\begin{array}{rr}k&42 - 9*k\\\\7&42 - 4*k\\\\\\end{array}\\right]$"
      ],
      "text/plain": [
       "<IPython.core.display.Math object>"
      ]
     },
     "metadata": {},
     "output_type": "display_data"
    }
   ],
   "source": [
    "Con = np.block([B, A@B]) \n",
    "display(Math(r'\\mathcal{C}=' + esc.mat(Con)))"
   ]
  },
  {
   "attachments": {},
   "cell_type": "markdown",
   "metadata": {},
   "source": [
    "Fazendo o determinante do $\\mathbf{\\mathcal{C}}$, achamos uma equação do segundo grau:\n",
    "$$ \n",
    "\\begin{align*}\n",
    " -4k^2+105k-294 =& 0\n",
    "\\end{align*}\n",
    "$$\n",
    "então vamos procurar as raízes para determinar o k"
   ]
  },
  {
   "cell_type": "code",
   "execution_count": 8,
   "metadata": {},
   "outputs": [
    {
     "name": "stdout",
     "output_type": "stream",
     "text": [
      "-4*k**2 + 105*k - 294\n"
     ]
    }
   ],
   "source": [
    "f =  -(4*k**2)+105*k-294\n",
    "print(f)\n",
    "a = -4\n",
    "b = 105\n",
    "c = -294"
   ]
  },
  {
   "cell_type": "code",
   "execution_count": 9,
   "metadata": {},
   "outputs": [
    {
     "name": "stdout",
     "output_type": "stream",
     "text": [
      "\n",
      "Valor de k1: 3.186910394849521\n",
      "Valor de k2: 23.06308960515048\n"
     ]
    }
   ],
   "source": [
    "D = (b**2 - 4*a*c)\n",
    "k1 = (-b+(D)**(1/2))/(2*a)\n",
    "k2 = (-b-(D)**(1/2))/(2*a)\n",
    "print('\\nValor de k1: {0}'.format(k1))\n",
    "print('Valor de k2: {0}'.format(k2))"
   ]
  },
  {
   "cell_type": "code",
   "execution_count": 15,
   "metadata": {},
   "outputs": [
    {
     "data": {
      "text/latex": [
       "$\\displaystyle \\dot{\\mathbf{x}} = \\left[\\begin{array}{rr}-9&6\\\\-4&6\\\\\\end{array}\\right]\\mathbf{x}+\\left[\\begin{array}{r}3.186910394849521\\\\7.0\\\\\\end{array}\\right]\\mathbf{u}$"
      ],
      "text/plain": [
       "<IPython.core.display.Math object>"
      ]
     },
     "metadata": {},
     "output_type": "display_data"
    },
    {
     "data": {
      "text/latex": [
       "$\\displaystyle \\mathbf{y} = \\left[\\begin{array}{rr}5&1\\\\\\end{array}\\right]\\mathbf{x} + \\left[\\begin{array}{r}0\\\\\\end{array}\\right]\\mathbf{u}$"
      ],
      "text/plain": [
       "<IPython.core.display.Math object>"
      ]
     },
     "metadata": {},
     "output_type": "display_data"
    },
    {
     "data": {
      "text/latex": [
       "$\\displaystyle \\mathcal{C}=\\left[\\begin{array}{rr}3.186910394849521&13.317806446354309\\\\7.0&29.252358420601915\\\\\\end{array}\\right]$"
      ],
      "text/plain": [
       "<IPython.core.display.Math object>"
      ]
     },
     "metadata": {},
     "output_type": "display_data"
    }
   ],
   "source": [
    "k = k1\n",
    "A = np.array([[-9,6],[-4,6]])\n",
    "B = np.array([[k],[7]])\n",
    "C = np.array([[5,1]])\n",
    "D = np.array([[0]])\n",
    "\n",
    "esc.sist(A,B,C,D)\n",
    "Con = np.block([B, A@B]) \n",
    "display(Math(r'\\mathcal{C}=' + esc.mat(Con)))"
   ]
  },
  {
   "cell_type": "code",
   "execution_count": 16,
   "metadata": {},
   "outputs": [
    {
     "name": "stdout",
     "output_type": "stream",
     "text": [
      "det(C) =  0.0\n"
     ]
    }
   ],
   "source": [
    "print('det(C) = ', np.linalg.det(Con))"
   ]
  },
  {
   "attachments": {},
   "cell_type": "markdown",
   "metadata": {},
   "source": [
    "Após encontrado as raízes, substituímos o valor de cada raíz para k, e seu determinante deu zero para $k_1$ e $k_2$"
   ]
  }
 ],
 "metadata": {
  "kernelspec": {
   "display_name": "Python 3",
   "language": "python",
   "name": "python3"
  },
  "language_info": {
   "codemirror_mode": {
    "name": "ipython",
    "version": 3
   },
   "file_extension": ".py",
   "mimetype": "text/x-python",
   "name": "python",
   "nbconvert_exporter": "python",
   "pygments_lexer": "ipython3",
   "version": "3.10.4"
  },
  "orig_nbformat": 4
 },
 "nbformat": 4,
 "nbformat_minor": 2
}
